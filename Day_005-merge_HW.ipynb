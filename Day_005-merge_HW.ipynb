{
 "cells": [
  {
   "cell_type": "markdown",
   "id": "detected-greece",
   "metadata": {},
   "source": [
    "# [作業目標]\n",
    "- 利用範例的創建方式, 創建一組資料, 並練習如何取出最大值"
   ]
  },
  {
   "cell_type": "markdown",
   "id": "personalized-belfast",
   "metadata": {},
   "source": [
    "# [作業重點]\n",
    "- 練習創立 DataFrame (In[2])\n",
    "- 如何取出口數最多的國家 (In[3], Out[3])"
   ]
  },
  {
   "cell_type": "markdown",
   "id": "novel-patch",
   "metadata": {},
   "source": [
    "## 練習時間\n",
    "在小量的資料上，我們用眼睛就可以看得出來程式碼是否有跑出我們理想中的結果\n",
    "\n",
    "請嘗試想像一個你需要的資料結構 (裡面的值可以是隨機的)，然後用上述的方法把它變成 pandas DataFrame\n",
    "\n",
    "#### Ex: 想像一個 dataframe 有兩個欄位，一個是國家，一個是人口，求人口數最多的國家\n",
    "\n",
    "### Hints: [隨機產生數值](https://blog.csdn.net/christianashannon/article/details/78867204)"
   ]
  },
  {
   "cell_type": "code",
   "execution_count": 1,
   "id": "perceived-monroe",
   "metadata": {},
   "outputs": [],
   "source": [
    "import pandas as pd\n",
    "import numpy as np"
   ]
  },
  {
   "cell_type": "code",
   "execution_count": 2,
   "id": "painted-riding",
   "metadata": {
    "scrolled": true
   },
   "outputs": [
    {
     "name": "stdout",
     "output_type": "stream",
     "text": [
      "  country  population\n",
      "0  Hobbit     1281144\n",
      "1    Maia     4463710\n",
      "2     Elf      331021\n",
      "3   Dwarf      828972\n",
      "4     Ent     1988300\n",
      "5     Man      867331\n",
      "========== 我是分隔線 ==========\n",
      "人口數最多的國家:  Maia\n",
      "人口數量:  4463710\n"
     ]
    }
   ],
   "source": [
    "import random\n",
    "# 國家(此處以種族來區分，名字來源參考魔戒wiki)\n",
    "country = ['Hobbit', 'Maia', 'Elf', 'Dwarf', 'Ent', 'Man']\n",
    "# 隨機產出人口數\n",
    "def population_list(start,stop,length):\n",
    "    if length >= 0:\n",
    "        length = int(length)\n",
    "    \n",
    "    if start <= stop:\n",
    "        start, stop = (int(start), int(stop))\n",
    "    else:\n",
    "        start, stop = (int(stop), int(start))\n",
    "        \n",
    "    population_list = []\n",
    "    \n",
    "    for i in range(length):\n",
    "        population_list.append(random.randint(start, stop))\n",
    "    return population_list\n",
    "\n",
    "# 依據國家數量來產出\n",
    "population = population_list(100000,5000000,6)\n",
    "\n",
    "# 將生好的資料一併塞入dataframe\n",
    "list_labels = ['country', 'population']\n",
    "list_cols = [country ,population]\n",
    "zipped_cou = list(zip(list_labels, list_cols))\n",
    "df = pd.DataFrame(dict(zipped_cou))\n",
    "\n",
    "print(df)\n",
    "print('='*10,'我是分隔線','='*10)\n",
    "\n",
    "# 找出人口最多的國家\n",
    "maxpop = df.population.max()\n",
    "maxcou = df[df['population'].isin([maxpop])]\n",
    "print('人口數最多的國家: ', maxcou.iloc[0].iat[0])\n",
    "print('人口數量: ', maxcou.iloc[0].iat[1])"
   ]
  },
  {
   "cell_type": "markdown",
   "id": "continental-banner",
   "metadata": {},
   "source": [
    "## 讀取 txt 檔\n",
    "* 請讀取 [text file](https://raw.githubusercontent.com/vashineyu/slides_and_others/master/tutorial/examples/imagenet_urls_examples.txt)\n",
    "* 懶人複製連結: https://raw.githubusercontent.com/vashineyu/slides_and_others/master/tutorial/examples/imagenet_urls_examples.txt\n",
    "\n",
    "### Hints: 使用 [Request](https://blog.gtwang.org/programming/python-requests-module-tutorial/) 抓取資料\n",
    "### Hints: [字串分割](http://www.runoob.com/python/att-string-split.html)\n",
    "### Hints: 例外處理: [Try-Except](https://pydoing.blogspot.com/2011/01/python-try.html)"
   ]
  },
  {
   "cell_type": "markdown",
   "id": "substantial-writer",
   "metadata": {},
   "source": [
    "# [作業目標]\n",
    "- 試著讀取網頁上的圖片連結清單, 再以清單中網址讀取圖片"
   ]
  },
  {
   "cell_type": "markdown",
   "id": "opposite-cherry",
   "metadata": {},
   "source": [
    "# [作業重點]\n",
    "- 從網頁上讀取連結清單 (In[1], In[2])\n",
    "- 從清單網址讀取圖片 (In[6]~In[9], Out[6]~Out[9])"
   ]
  },
  {
   "cell_type": "code",
   "execution_count": null,
   "id": "explicit-corrections",
   "metadata": {},
   "outputs": [],
   "source": [
    "## 假如我們不想把資料載到自己的電腦裡?\n",
    "# 把連結填入\n",
    "target_url = "
   ]
  },
  {
   "cell_type": "code",
   "execution_count": null,
   "id": "mexican-thesaurus",
   "metadata": {},
   "outputs": [],
   "source": [
    "import requests\n",
    "response = requests.get(target_url)\n",
    "data = response.text\n",
    "\n",
    "# 用 request 傳送回來的資料不會認得斷行符號\n",
    "print(len(data))\n",
    "data[0:100]"
   ]
  },
  {
   "cell_type": "code",
   "execution_count": null,
   "id": "surface-chile",
   "metadata": {},
   "outputs": [],
   "source": [
    "# 找到換行符號，用該符號做字串分割後，把它拿掉\n",
    "split_tag = \n",
    "\n",
    "data = data.split(split_tag)\n",
    "print(len(data))\n",
    "data[0]"
   ]
  },
  {
   "cell_type": "markdown",
   "id": "dangerous-piece",
   "metadata": {},
   "source": [
    "## 將 txt 轉成 pandas dataframe"
   ]
  },
  {
   "cell_type": "code",
   "execution_count": null,
   "id": "demographic-offense",
   "metadata": {},
   "outputs": [],
   "source": [
    "import pandas as pd\n",
    "\n",
    "    \n",
    "df = pd.DataFrame(arrange_data)\n",
    "df.head()"
   ]
  },
  {
   "cell_type": "markdown",
   "id": "minus-surrey",
   "metadata": {},
   "source": [
    "## 讀取圖片，請讀取上面 data frame 中的前 5 張圖片"
   ]
  },
  {
   "cell_type": "code",
   "execution_count": null,
   "id": "minimal-equality",
   "metadata": {},
   "outputs": [],
   "source": [
    "from PIL import Image\n",
    "from io import BytesIO\n",
    "import numpy as np\n",
    "import matplotlib.pyplot as plt\n",
    "\n",
    "# 請用 df.loc[...] 得到第一筆資料的連結\n",
    "first_link = \n",
    "\n",
    "response = requests.get(first_link)\n",
    "img = Image.open(BytesIO(response.content))\n",
    "\n",
    "# Convert img to numpy array\n",
    "\n",
    "plt.imshow(img)\n",
    "plt.show()"
   ]
  },
  {
   "cell_type": "code",
   "execution_count": null,
   "id": "natural-bristol",
   "metadata": {},
   "outputs": [],
   "source": [
    "def img2arr_fromURLs(url_list, resize = False):\n",
    "    \"\"\"\n",
    "    請完成這個 Function\n",
    "    Args\n",
    "        - url_list: list of URLs\n",
    "        - resize: bool\n",
    "    Return\n",
    "        - list of array\n",
    "    \"\"\"\n",
    "    \n",
    "    return img_list"
   ]
  },
  {
   "cell_type": "code",
   "execution_count": null,
   "id": "administrative-symposium",
   "metadata": {},
   "outputs": [],
   "source": [
    "result = img2arr_fromURLs(df[0:5][1].values)\n",
    "print(\"Total images that we got: %i \" % len(result)) # 如果不等於 5, 代表有些連結失效囉\n",
    "\n",
    "for im_get in result:\n",
    "    plt.imshow(im_get)\n",
    "    plt.show()"
   ]
  }
 ],
 "metadata": {
  "kernelspec": {
   "display_name": "Python 3",
   "language": "python",
   "name": "python3"
  },
  "language_info": {
   "codemirror_mode": {
    "name": "ipython",
    "version": 3
   },
   "file_extension": ".py",
   "mimetype": "text/x-python",
   "name": "python",
   "nbconvert_exporter": "python",
   "pygments_lexer": "ipython3",
   "version": "3.7.9"
  }
 },
 "nbformat": 4,
 "nbformat_minor": 5
}
