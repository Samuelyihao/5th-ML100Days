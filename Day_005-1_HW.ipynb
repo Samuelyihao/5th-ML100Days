{
 "cells": [
  {
   "cell_type": "markdown",
   "metadata": {},
   "source": [
    "# [作業目標]\n",
    "- 利用範例的創建方式, 創建一組資料, 並練習如何取出最大值"
   ]
  },
  {
   "cell_type": "markdown",
   "metadata": {},
   "source": [
    "# [作業重點]\n",
    "- 練習創立 DataFrame (In[2])\n",
    "- 如何取出口數最多的國家 (In[3], Out[3])"
   ]
  },
  {
   "cell_type": "markdown",
   "metadata": {},
   "source": [
    "## 練習時間\n",
    "在小量的資料上，我們用眼睛就可以看得出來程式碼是否有跑出我們理想中的結果\n",
    "\n",
    "請嘗試想像一個你需要的資料結構 (裡面的值可以是隨機的)，然後用上述的方法把它變成 pandas DataFrame\n",
    "\n",
    "#### Ex: 想像一個 dataframe 有兩個欄位，一個是國家，一個是人口，求人口數最多的國家\n",
    "\n",
    "### Hints: [隨機產生數值](https://blog.csdn.net/christianashannon/article/details/78867204)"
   ]
  },
  {
   "cell_type": "code",
   "execution_count": 1,
   "metadata": {},
   "outputs": [],
   "source": [
    "import pandas as pd\n",
    "import numpy as np"
   ]
  },
  {
   "cell_type": "code",
   "execution_count": 2,
   "metadata": {},
   "outputs": [
    {
     "name": "stdout",
     "output_type": "stream",
     "text": [
      "  country  population\n",
      "0  Hobbit     4826579\n",
      "1    Maia     2823760\n",
      "2     Elf     4903690\n",
      "3   Dwarf     1680009\n",
      "4     Ent     4331151\n",
      "5     Man     2620642\n",
      "========== 我是分隔線 ==========\n",
      "人口數最多的國家:  Elf\n",
      "人口數量:  4903690\n"
     ]
    }
   ],
   "source": [
    "import random\n",
    "# 國家(此處以種族來區分，名字來源參考魔戒wiki)\n",
    "country = ['Hobbit', 'Maia', 'Elf', 'Dwarf', 'Ent', 'Man']\n",
    "# 隨機產出人口數\n",
    "def population_list(start,stop,length):\n",
    "    if length >= 0:\n",
    "        length = int(length)\n",
    "    \n",
    "    if start <= stop:\n",
    "        start, stop = (int(start), int(stop))\n",
    "    else:\n",
    "        start, stop = (int(stop), int(start))\n",
    "        \n",
    "    population_list = []\n",
    "    \n",
    "    for i in range(length):\n",
    "        population_list.append(random.randint(start, stop))\n",
    "    return population_list\n",
    "\n",
    "# 依據國家數量來產出\n",
    "population = population_list(100000,5000000,6)\n",
    "\n",
    "# 將生好的資料一併塞入dataframe\n",
    "list_labels = ['country', 'population']\n",
    "list_cols = [country ,population]\n",
    "zipped_cou = list(zip(list_labels, list_cols))\n",
    "df = pd.DataFrame(dict(zipped_cou))\n",
    "\n",
    "print(df)\n",
    "print('='*10,'我是分隔線','='*10)\n",
    "\n",
    "# 找出人口最多的國家\n",
    "maxpop = df.population.max()\n",
    "maxcou = df[df['population'].isin([maxpop])]\n",
    "print('人口數最多的國家: ', maxcou.iloc[0].iat[0])\n",
    "print('人口數量: ', maxcou.iloc[0].iat[1])"
   ]
  },
  {
   "cell_type": "code",
   "execution_count": null,
   "metadata": {},
   "outputs": [],
   "source": []
  }
 ],
 "metadata": {
  "kernelspec": {
   "display_name": "Python 3",
   "language": "python",
   "name": "python3"
  },
  "language_info": {
   "codemirror_mode": {
    "name": "ipython",
    "version": 3
   },
   "file_extension": ".py",
   "mimetype": "text/x-python",
   "name": "python",
   "nbconvert_exporter": "python",
   "pygments_lexer": "ipython3",
   "version": "3.7.9"
  }
 },
 "nbformat": 4,
 "nbformat_minor": 2
}
